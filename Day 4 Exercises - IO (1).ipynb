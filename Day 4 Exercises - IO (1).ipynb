{
 "cells": [
  {
   "cell_type": "code",
   "execution_count": null,
   "metadata": {},
   "outputs": [],
   "source": [
    "# Exercise 1: Ask for a birthday, a favorite gift, and their dream job is and display that information within a block quote"
   ]
  },
  {
   "cell_type": "code",
   "execution_count": 92,
   "metadata": {},
   "outputs": [
    {
     "name": "stdout",
     "output_type": "stream",
     "text": [
      "When is your birthday?\n",
      "What was your favorite gift?\n",
      "What is your dream job?\n",
      "10/18\n",
      "ps5\n",
      "tech support\n"
     ]
    }
   ],
   "source": [
    "print(\"When is your birthday?\")\n",
    "print(\"What was your favorite gift?\")\n",
    "print(\"What is your dream job?\")\n",
    "answer = input()\n",
    "answer = input()\n",
    "answer = input()"
   ]
  },
  {
   "cell_type": "code",
   "execution_count": 16,
   "metadata": {},
   "outputs": [],
   "source": [
    "# Exercise 2: Ask for a favorite song, favorite movie, and favorite book.\n",
    "# Use print statements to ask the questions, however they must type the answer on the same line the question is asked\n",
    "# Display the result"
   ]
  },
  {
   "cell_type": "code",
   "execution_count": 43,
   "metadata": {},
   "outputs": [
    {
     "name": "stdout",
     "output_type": "stream",
     "text": [
      "What's your favorite song? Dragonforce\n",
      "What's your favorite movie? Star wars\n",
      "What's your favorite book? Gundam\n"
     ]
    }
   ],
   "source": [
    "print(\"What's your favorite song?\", end=' ')\n",
    "answer = input()\n",
    "print(\"What's your favorite movie?\", end=' ')\n",
    "answer = input()\n",
    "print(\"What's your favorite book?\", end=' ')\n",
    "answer = input()"
   ]
  },
  {
   "cell_type": "raw",
   "metadata": {},
   "source": [
    "# Exercise 3: Ask what they are going to give you for your birthday and ask them how old you are turning.\n",
    "# Do not use any print statements to prompt for the inputs. \n",
    "# Display the answers in a nicely formated way.(may only use one print statement)"
   ]
  },
  {
   "cell_type": "code",
   "execution_count": 91,
   "metadata": {},
   "outputs": [
    {
     "name": "stdout",
     "output_type": "stream",
     "text": [
      "What's gift are you sending?ps5\n",
      "How old are you turning?33\n"
     ]
    }
   ],
   "source": [
    "answer = input(\"What's gift are you sending?\")\n",
    "answer = input(\"How old are you turning?\")"
   ]
  },
  {
   "cell_type": "code",
   "execution_count": null,
   "metadata": {},
   "outputs": [],
   "source": [
    "# Exercise 4: What is the input() piece in code called? \n",
    "# Why do we use things like print(), input(), or our own sets?\n",
    "# Why do we use comments? \n",
    "# Why do we use variables?\n",
    "# What do we do we do before we take an input? Why?\n",
    "# Please print this answer using only one print statement"
   ]
  },
  {
   "cell_type": "code",
   "execution_count": 61,
   "metadata": {},
   "outputs": [
    {
     "name": "stdout",
     "output_type": "stream",
     "text": [
      "To print specified messages to the screen, or other standard output device.\n",
      " To keep track of our coding and what were using it for.\n",
      "To store data types like integers and strings to more complex data structures like lists and dictionaries.\n",
      "We use the double quotes to ask what we want to put down. This is so can input the data when asked.\n"
     ]
    }
   ],
   "source": [
    "print(\"To print specified messages to the screen, or other standard output device.\\n To keep track of our coding and what were using it for.\\nTo store data types like integers and strings to more complex data structures like lists and dictionaries.\\nWe use the double quotes to ask what we want to put down. This is so can input the data when asked.\")"
   ]
  },
  {
   "cell_type": "code",
   "execution_count": null,
   "metadata": {},
   "outputs": [],
   "source": [
    "# Exercise 5: Your partner is asking you to go to eat.\n",
    "# Use print statments to ask the questions and your inputs should nicely formated like the third lesson \n",
    "# They ask you what time you want to go, where you want to eat, and how you will be getting there.\n",
    "# Make the conversation flow like you were texting someone\n",
    "\n",
    "# Example: What time do you want to eat? \n",
    "# > 7:30pm\n",
    "# Okay! 7:30pm, where?\n",
    "# > Iron Age\n",
    "# Gotcha, I booked us a table at Iron Age.\n",
    "# How are you going to get there?\n",
    "# > I taking the car\n",
    "# Sounds good! I'll see you then."
   ]
  },
  {
   "cell_type": "code",
   "execution_count": 126,
   "metadata": {},
   "outputs": [
    {
     "name": "stdout",
     "output_type": "stream",
     "text": [
      "What time do you want to eat\n",
      "5:30\n",
      "Okay! 5:30 ,where?\n",
      "Five Guys\n",
      "OK, I'll meet you meet you at Five Guys \n",
      "How are you getting there?\n",
      "Uber\n",
      "I'm taking the Uber \n",
      "Sounds good! I'll see you there.\n"
     ]
    }
   ],
   "source": [
    "time = \"5:30\"\n",
    "location = \"Five Guys\"\n",
    "transportation = \"Uber\"\n",
    "\n",
    "\n",
    "print(\"What time do you want to eat\")\n",
    "answer = input()\n",
    "print(\"Okay!\",time, \",where?\")\n",
    "answer = input()\n",
    "print(\"OK, I'll meet you meet you at\" ,location,\"\")\n",
    "print(\"How are you getting there?\")\n",
    "answer = input()\n",
    "print(\"I'm taking the\",transportation,\"\")\n",
    "print(\"Sounds good! I'll see you there.\")"
   ]
  },
  {
   "cell_type": "code",
   "execution_count": 69,
   "metadata": {},
   "outputs": [],
   "source": [
    "# Exercise 6: Create a function that concatonates a two strings and prints the new sentence out. \n",
    "# Ask a user to type in two strings and print out the concatonation by calling your function.\n"
   ]
  },
  {
   "cell_type": "code",
   "execution_count": 88,
   "metadata": {},
   "outputs": [
    {
     "name": "stdout",
     "output_type": "stream",
     "text": [
      "Hi, what's your name?\n",
      "mike\n",
      "Where are you from?\n",
      "MD\n",
      "Hi mike from MD Nice to meet you.\n"
     ]
    }
   ],
   "source": [
    "print(\"Hi, what's your name?\")\n",
    "name = input()\n",
    "print(\"Where are you from?\")\n",
    "place = input()\n",
    "print(\"Hi\",name,\"from\",place,\"Nice to meet you.\")"
   ]
  },
  {
   "cell_type": "code",
   "execution_count": 152,
   "metadata": {},
   "outputs": [],
   "source": [
    "# Exercise 7: Create a function that needs nothing and prints out the Happy birthday song in Spanish. \n",
    "# Use the function to display the result.\n",
    "# The song lyric is below\n",
    "\n",
    "# Feliz cumpleaños a ti\n",
    "# feliz cumpleaños a ti\n",
    "# feliz cumpleaños querido amigo\n",
    "# feliz cumpleaños a ti."
   ]
  },
  {
   "cell_type": "code",
   "execution_count": 24,
   "metadata": {},
   "outputs": [
    {
     "name": "stdout",
     "output_type": "stream",
     "text": [
      "Feliz cumpleaños a ti\n",
      "feliz cumpleaños a ti\n",
      "feliz cumpleaños querido amigo\n",
      "feliz cumpleaños a ti.\n"
     ]
    }
   ],
   "source": [
    "def Birthday():\n",
    "    print(\"\"\"Feliz cumpleaños a ti\n",
    "feliz cumpleaños a ti\n",
    "feliz cumpleaños querido amigo\n",
    "feliz cumpleaños a ti.\"\"\")\n",
    "\n",
    "# call the function\n",
    "Birthday()\n"
   ]
  },
  {
   "cell_type": "code",
   "execution_count": 146,
   "metadata": {},
   "outputs": [],
   "source": [
    "# Exercise 8: Create a function that takes the sum of three numbers and returns the value\n",
    "# Make sure to use the function and display the result\n",
    "# When you are done, get 3 numbers from a user and then print out the sum using your function"
   ]
  },
  {
   "cell_type": "code",
   "execution_count": 172,
   "metadata": {},
   "outputs": [
    {
     "name": "stdout",
     "output_type": "stream",
     "text": [
      "Sum:  12\n"
     ]
    }
   ],
   "source": [
    "# function that adds two numbers\n",
    "def add_numbers(num1, num2, num3):\n",
    "    sum = num1 + num2 + num3\n",
    "    return sum\n",
    "\n",
    "# calling function with two values\n",
    "result = add_numbers(5, 4, 3)\n",
    "\n",
    "print('Sum: ', result)\n",
    "\n",
    "# Output: Sum: 12"
   ]
  },
  {
   "cell_type": "code",
   "execution_count": null,
   "metadata": {},
   "outputs": [],
   "source": [
    "# Exercise 9: Create a function that takes two arguments and prints out a sentence or word by the amount of times you specify."
   ]
  },
  {
   "cell_type": "code",
   "execution_count": 182,
   "metadata": {},
   "outputs": [
    {
     "name": "stdout",
     "output_type": "stream",
     "text": [
      "Thunder! Thunder! Thunder! \n",
      "Thundercats! Thundercats! \n"
     ]
    }
   ],
   "source": [
    "def repeat_message (message, numb) :\n",
    "    print(f\"{message} \" * numb)            \n",
    "    \n",
    "repeat_message(\"Thunder!\", 3) \n",
    "repeat_message(\"Thundercats!\", 2) "
   ]
  },
  {
   "cell_type": "code",
   "execution_count": 176,
   "metadata": {},
   "outputs": [],
   "source": [
    "# Exercise 10: Create a function within a function\n",
    "# Create a function for \n",
    "#     adding 2 numbers, \n",
    "#     subtracting 2 numbers, \n",
    "#     multiplying 2 numbers, \n",
    "#     and dividing 2 numbers.\n",
    "#\n",
    "# Then create a function that will compute \n",
    "#      BMI = ( Weight in Pounds / ( Height in inches x Height in inches ) ) x 703\n",
    "#\n",
    "# Get a weight and height from a user to compute user's BMI using your functions."
   ]
  },
  {
   "cell_type": "code",
   "execution_count": 197,
   "metadata": {},
   "outputs": [
    {
     "name": "stdout",
     "output_type": "stream",
     "text": [
      "Enter First Number: 50\n",
      "Enter Second Number: 20\n",
      "Enter which operation would you like to perform?\n",
      "Enter any of these char for specific operation +,-,*,/: +\n",
      "50 + 20 : 70\n"
     ]
    }
   ],
   "source": [
    "# Python program to perform Addition Subtraction Multiplication\n",
    "# and Division of two numbers\n",
    "\n",
    "num1 = int(input(\"Enter First Number: \"))\n",
    "num2 = int(input(\"Enter Second Number: \"))\n",
    "\n",
    "print(\"Enter which operation would you like to perform?\")\n",
    "ch = input(\"Enter any of these char for specific operation +,-,*,/: \")\n",
    "\n",
    "result = 0\n",
    "if ch == '+':\n",
    "    result = num1 + num2\n",
    "elif ch == '-':\n",
    "    result = num1 - num2\n",
    "elif ch == '*':\n",
    "    result = num1 * num2\n",
    "elif ch == '/':\n",
    "    result = num1 / num2\n",
    "else:\n",
    "    print(\"Input character is not recognized!\")\n",
    "\n",
    "print(num1, ch , num2, \":\", result)\n",
    "\n",
    "#BMI Function\n"
   ]
  },
  {
   "cell_type": "code",
   "execution_count": 18,
   "metadata": {},
   "outputs": [
    {
     "name": "stdout",
     "output_type": "stream",
     "text": [
      "Enter your height in inches: 120\n",
      "Enter your weight in pounds: 170\n",
      "Your BMI is:  8.299305555555556\n"
     ]
    }
   ],
   "source": [
    "def bodymassindex(height, weight):\n",
    "    heightsquared = (height * height)\n",
    "    BMI = (weight / heightsquared)\n",
    "    return float(BMI*703)\n",
    "    \n",
    "\n",
    "\n",
    "h = float(input(\"Enter your height in inches: \"))\n",
    "w = float(input(\"Enter your weight in pounds: \"))\n",
    "\n",
    "bmi = bodymassindex(h, w)\n",
    "print(\"Your BMI is: \", bmi)\n"
   ]
  },
  {
   "cell_type": "code",
   "execution_count": 17,
   "metadata": {},
   "outputs": [],
   "source": [
    "# Exercise 11: \n",
    "# Modify and use your pseudocode for \"Find the average score\" from \n",
    "# Day 2 homework to create a function that takes 3 arguements \n",
    "# and returns their average\n",
    "# Get three numbers from a user and use your function to compute their average"
   ]
  },
  {
   "cell_type": "code",
   "execution_count": 23,
   "metadata": {},
   "outputs": [
    {
     "name": "stdout",
     "output_type": "stream",
     "text": [
      "Enter score for round 1: 50\n",
      "Enter score for round 2: 80\n",
      "Enter score for round 3: 70\n",
      "the average score is:  66.66666666666667\n"
     ]
    }
   ],
   "source": [
    "#(BEGIN\n",
    "#\tSet sum = 0\n",
    "#\tLOOP 10 times\n",
    "#\t\tPrompt user for a number\n",
    "#\t\tAdd a number to sum\n",
    "#\tENDLOOP\n",
    "#\tavg = sum / 10\n",
    "#\tDisplay avg to user\n",
    "#END\n",
    "\n",
    "# Get three test score\n",
    "test1 = float(input(\"Enter score for round 1: \"))\n",
    "\n",
    "test2 = float(input(\"Enter score for round 2: \"))\n",
    "\n",
    "test3 = float(input(\"Enter score for round 3: \"))\n",
    "   \n",
    "# Calculate the average\n",
    "average = (test1 + test2 + test3) / 3\n",
    "\n",
    "# Print out the test score\n",
    "print (\"the average score is: \", average) "
   ]
  },
  {
   "cell_type": "code",
   "execution_count": null,
   "metadata": {},
   "outputs": [],
   "source": [
    "# Exercise 12:\n",
    "# Using your pseudocode for \"How much water runs off a roof in a rain storm?\" \n",
    "# from Day 2 homework, write a Python program with a function. \n",
    "# Which functionality make sense to modulize into a function?"
   ]
  },
  {
   "cell_type": "code",
   "execution_count": 30,
   "metadata": {},
   "outputs": [
    {
     "name": "stdout",
     "output_type": "stream",
     "text": [
      "Enter inches of rainfall: 50\n",
      "Rainfall volume is... 31168.83116883117\n"
     ]
    }
   ],
   "source": [
    "#BEGIN\n",
    "#\tSet sum = 144,000\n",
    "#\t\tPrompt user for inches of rain fall\n",
    " #       inches of rainfall * sum = cubic inch of rainfall\n",
    "  #      cubic in of rainfall / 231 = rainfall in gal\n",
    "   #     OUTPUT gal\n",
    "#END\n",
    "\n",
    "def rainfall():\n",
    "    sum = (144000)\n",
    "    water = (inches*sum)\n",
    "    collect = (water/231)\n",
    "    return float(collect)\n",
    "\n",
    "inches = float(input('Enter inches of rainfall: '))\n",
    "volume = rainfall()\n",
    "print(\"Rainfall volume is...\",volume)\n"
   ]
  },
  {
   "cell_type": "code",
   "execution_count": null,
   "metadata": {},
   "outputs": [],
   "source": []
  }
 ],
 "metadata": {
  "kernelspec": {
   "display_name": "Python 3 (ipykernel)",
   "language": "python",
   "name": "python3"
  },
  "language_info": {
   "codemirror_mode": {
    "name": "ipython",
    "version": 3
   },
   "file_extension": ".py",
   "mimetype": "text/x-python",
   "name": "python",
   "nbconvert_exporter": "python",
   "pygments_lexer": "ipython3",
   "version": "3.11.4"
  }
 },
 "nbformat": 4,
 "nbformat_minor": 2
}
